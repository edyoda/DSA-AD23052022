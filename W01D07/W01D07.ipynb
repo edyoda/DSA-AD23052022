{
 "cells": [
  {
   "cell_type": "code",
   "execution_count": 1,
   "id": "e07edb27",
   "metadata": {},
   "outputs": [],
   "source": [
    "graph_1 = {\n",
    "    \"A\":[\"B\",\"C\",\"D\"],\n",
    "    \"B\":[\"A\"],\n",
    "    \"C\":[\"A\",\"D\"],\n",
    "    \"D\":[\"A\",\"C\"]\n",
    "}"
   ]
  },
  {
   "cell_type": "code",
   "execution_count": 16,
   "id": "3cc85c67",
   "metadata": {},
   "outputs": [],
   "source": [
    "class graph:\n",
    "    def __init__(self):\n",
    "        self.data = {}\n",
    "        \n",
    "    def addEdge(self, u , v):\n",
    "        if u in self.data.keys():\n",
    "            self.data[u].append(v)\n",
    "        else:\n",
    "            self.data[u] = [v]\n",
    "        if v not in self.data.keys():\n",
    "            self.data[v] = []\n",
    "    def bfs(self):\n",
    "        visited = []\n",
    "        queue = []\n",
    "        for v in self.data.keys():\n",
    "            if v in visited:\n",
    "                continue\n",
    "            queue.append(v)\n",
    "            visited.append(v)\n",
    "            while len(queue) > 0:\n",
    "                popped_item = queue.pop(0)\n",
    "                print(popped_item,end='->')\n",
    "                for neighbour in self.data[popped_item]:\n",
    "                    if neighbour not in visited:\n",
    "                        queue.append(neighbour)\n",
    "                        visited.append(neighbour)"
   ]
  },
  {
   "cell_type": "code",
   "execution_count": 17,
   "id": "4ec7f4ba",
   "metadata": {},
   "outputs": [],
   "source": [
    "x = graph()"
   ]
  },
  {
   "cell_type": "code",
   "execution_count": 18,
   "id": "4d0176dc",
   "metadata": {},
   "outputs": [],
   "source": [
    "x.addEdge('A','B')\n",
    "x.addEdge('A','C')\n",
    "x.addEdge('A','D')\n",
    "x.addEdge('B','A')\n",
    "x.addEdge('C','A')\n",
    "x.addEdge('C','D')\n",
    "x.addEdge('D','A')\n",
    "x.addEdge('D','C')"
   ]
  },
  {
   "cell_type": "code",
   "execution_count": 19,
   "id": "c8df803d",
   "metadata": {},
   "outputs": [
    {
     "data": {
      "text/plain": [
       "{'A': ['B', 'C', 'D'], 'B': ['A'], 'C': ['A', 'D'], 'D': ['A', 'C']}"
      ]
     },
     "execution_count": 19,
     "metadata": {},
     "output_type": "execute_result"
    }
   ],
   "source": [
    "x.data"
   ]
  },
  {
   "cell_type": "code",
   "execution_count": 20,
   "id": "b6673346",
   "metadata": {},
   "outputs": [
    {
     "name": "stdout",
     "output_type": "stream",
     "text": [
      "A->B->C->D->"
     ]
    }
   ],
   "source": [
    "x.bfs()"
   ]
  },
  {
   "cell_type": "code",
   "execution_count": 21,
   "id": "a4b6793e",
   "metadata": {},
   "outputs": [],
   "source": [
    "y = graph()"
   ]
  },
  {
   "cell_type": "code",
   "execution_count": 22,
   "id": "dd2e3055",
   "metadata": {},
   "outputs": [],
   "source": [
    "y.addEdge('0','1')\n",
    "y.addEdge('1','2')\n",
    "y.addEdge('2','0')\n",
    "y.addEdge('1','3')\n",
    "y.addEdge('3','4')\n",
    "y.addEdge('4','5')\n",
    "y.addEdge('2','5')"
   ]
  },
  {
   "cell_type": "code",
   "execution_count": 23,
   "id": "e069719a",
   "metadata": {},
   "outputs": [
    {
     "data": {
      "text/plain": [
       "{'0': ['1'], '1': ['2', '3'], '2': ['0', '5'], '3': ['4'], '4': ['5'], '5': []}"
      ]
     },
     "execution_count": 23,
     "metadata": {},
     "output_type": "execute_result"
    }
   ],
   "source": [
    "y.data"
   ]
  },
  {
   "cell_type": "code",
   "execution_count": 24,
   "id": "232969b9",
   "metadata": {},
   "outputs": [
    {
     "name": "stdout",
     "output_type": "stream",
     "text": [
      "0->1->2->3->5->4->"
     ]
    }
   ],
   "source": [
    "y.bfs()"
   ]
  },
  {
   "cell_type": "code",
   "execution_count": 26,
   "id": "994c5f6f",
   "metadata": {},
   "outputs": [],
   "source": [
    "def Merge(B,C):\n",
    "    D = []\n",
    "    while len(B)!=0 and len(C)!=0:\n",
    "        b = B[0]\n",
    "        c = C[0]\n",
    "        if b<=c:\n",
    "            D.append(b)\n",
    "            B.pop(0)\n",
    "        else:\n",
    "            D.append(c)\n",
    "            C.pop(0)\n",
    "    if len(B)!=0:\n",
    "        D.extend(B)\n",
    "    if len(C)!=0:\n",
    "        D.extend(C)\n",
    "    return D"
   ]
  },
  {
   "cell_type": "code",
   "execution_count": 30,
   "id": "720a7528",
   "metadata": {},
   "outputs": [],
   "source": [
    "def merge_sort(A):\n",
    "    n = len(A)\n",
    "    if n==1:\n",
    "        return A\n",
    "    m = n//2\n",
    "    print(A[:m], ' * ', A[m:])\n",
    "    B = merge_sort(A[:m])\n",
    "    C = merge_sort(A[m:])\n",
    "    A_dash = Merge(B, C)\n",
    "    print(A_dash)\n",
    "    return A_dash"
   ]
  },
  {
   "cell_type": "code",
   "execution_count": 31,
   "id": "edae0463",
   "metadata": {},
   "outputs": [],
   "source": [
    "x = [30,-11,40,20,13,63,75,101]"
   ]
  },
  {
   "cell_type": "code",
   "execution_count": 32,
   "id": "e31edd4d",
   "metadata": {},
   "outputs": [
    {
     "name": "stdout",
     "output_type": "stream",
     "text": [
      "[30, -11, 40, 20]  *  [13, 63, 75, 101]\n",
      "[30, -11]  *  [40, 20]\n",
      "[30]  *  [-11]\n",
      "[-11, 30]\n",
      "[40]  *  [20]\n",
      "[20, 40]\n",
      "[-11, 20, 30, 40]\n",
      "[13, 63]  *  [75, 101]\n",
      "[13]  *  [63]\n",
      "[13, 63]\n",
      "[75]  *  [101]\n",
      "[75, 101]\n",
      "[13, 63, 75, 101]\n",
      "[-11, 13, 20, 30, 40, 63, 75, 101]\n"
     ]
    },
    {
     "data": {
      "text/plain": [
       "[-11, 13, 20, 30, 40, 63, 75, 101]"
      ]
     },
     "execution_count": 32,
     "metadata": {},
     "output_type": "execute_result"
    }
   ],
   "source": [
    "merge_sort(x)"
   ]
  },
  {
   "cell_type": "code",
   "execution_count": null,
   "id": "23a30d04",
   "metadata": {},
   "outputs": [],
   "source": []
  }
 ],
 "metadata": {
  "kernelspec": {
   "display_name": "Python 3 (ipykernel)",
   "language": "python",
   "name": "python3"
  },
  "language_info": {
   "codemirror_mode": {
    "name": "ipython",
    "version": 3
   },
   "file_extension": ".py",
   "mimetype": "text/x-python",
   "name": "python",
   "nbconvert_exporter": "python",
   "pygments_lexer": "ipython3",
   "version": "3.8.9"
  }
 },
 "nbformat": 4,
 "nbformat_minor": 5
}
