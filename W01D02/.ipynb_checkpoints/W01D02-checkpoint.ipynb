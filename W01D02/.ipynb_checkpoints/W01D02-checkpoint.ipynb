{
 "cells": [
  {
   "cell_type": "markdown",
   "id": "9e20c5e8",
   "metadata": {},
   "source": [
    "# Function Calling"
   ]
  },
  {
   "cell_type": "code",
   "execution_count": 10,
   "id": "a2ee6cbb",
   "metadata": {},
   "outputs": [],
   "source": [
    "def happy(x):\n",
    "    return x+1"
   ]
  },
  {
   "cell_type": "code",
   "execution_count": 11,
   "id": "8f0c1cba",
   "metadata": {},
   "outputs": [],
   "source": [
    "def very_happy(y):\n",
    "    return happy(2*y)"
   ]
  },
  {
   "cell_type": "code",
   "execution_count": 13,
   "id": "af47fad2",
   "metadata": {},
   "outputs": [],
   "source": [
    "z = very_happy(5)"
   ]
  },
  {
   "cell_type": "code",
   "execution_count": 14,
   "id": "234be7aa",
   "metadata": {},
   "outputs": [
    {
     "name": "stdout",
     "output_type": "stream",
     "text": [
      "11\n"
     ]
    }
   ],
   "source": [
    "print(z)"
   ]
  },
  {
   "cell_type": "markdown",
   "id": "9a3516df",
   "metadata": {},
   "source": [
    "# Recursion "
   ]
  },
  {
   "cell_type": "code",
   "execution_count": null,
   "id": "5213bd6d",
   "metadata": {},
   "outputs": [],
   "source": [
    "Function calling itself."
   ]
  },
  {
   "cell_type": "code",
   "execution_count": 15,
   "id": "bf47b210",
   "metadata": {},
   "outputs": [],
   "source": [
    "def happy(x):\n",
    "    happy(x+1)\n",
    "\n",
    "# infinite function callings."
   ]
  },
  {
   "cell_type": "code",
   "execution_count": null,
   "id": "350fd130",
   "metadata": {},
   "outputs": [],
   "source": [
    "# happy(1)"
   ]
  },
  {
   "cell_type": "code",
   "execution_count": 16,
   "id": "8977347c",
   "metadata": {},
   "outputs": [],
   "source": [
    "# exit condition in recursion: when your function calling will stop"
   ]
  },
  {
   "cell_type": "code",
   "execution_count": 25,
   "id": "5f94264b",
   "metadata": {},
   "outputs": [],
   "source": [
    "def happy(x):\n",
    "    if x == 5:\n",
    "        return x\n",
    "    return happy(x+1)"
   ]
  },
  {
   "cell_type": "code",
   "execution_count": 26,
   "id": "e660d90f",
   "metadata": {},
   "outputs": [],
   "source": [
    "y = happy(1)"
   ]
  },
  {
   "cell_type": "code",
   "execution_count": 27,
   "id": "e1872ec2",
   "metadata": {},
   "outputs": [
    {
     "name": "stdout",
     "output_type": "stream",
     "text": [
      "5\n"
     ]
    }
   ],
   "source": [
    "print(y)"
   ]
  },
  {
   "cell_type": "code",
   "execution_count": null,
   "id": "68d7f8c4",
   "metadata": {},
   "outputs": [],
   "source": [
    "# Quick Sort\n",
    "-> it is a very fast sorting algorithm\n",
    "-> we can implement it using recursion\n",
    "-> it takes nlogn time to sort an list.\n",
    "-> to compare, we can say bubble sort, selection sort, and insertion sort takes around\n",
    "nsquare time."
   ]
  },
  {
   "cell_type": "code",
   "execution_count": 28,
   "id": "23dddf15",
   "metadata": {},
   "outputs": [],
   "source": [
    "def partition(A, l, r):\n",
    "    x = A[l]\n",
    "    j = l\n",
    "    for i in range(l+1, r+1):\n",
    "        if A[i] <= x:\n",
    "            j+=1\n",
    "            A[j],A[i] = A[i],A[j]\n",
    "    A[l],A[j] = A[j],A[l]\n",
    "    return j"
   ]
  },
  {
   "cell_type": "code",
   "execution_count": 34,
   "id": "5781858e",
   "metadata": {},
   "outputs": [],
   "source": [
    "def quicksort(A, l, r):\n",
    "    print(A)\n",
    "    if l>=r:\n",
    "        return\n",
    "    m = partition(A,l,r)\n",
    "    quicksort(A,l,m-1)\n",
    "    quicksort(A,m+1,r)"
   ]
  },
  {
   "cell_type": "code",
   "execution_count": 35,
   "id": "2daa8516",
   "metadata": {},
   "outputs": [],
   "source": [
    "A = [34,60,10,-2,0,2,3,33,9,9,-5,6,1]"
   ]
  },
  {
   "cell_type": "code",
   "execution_count": 36,
   "id": "28d07d2c",
   "metadata": {},
   "outputs": [
    {
     "name": "stdout",
     "output_type": "stream",
     "text": [
      "[34, 60, 10, -2, 0, 2, 3, 33, 9, 9, -5, 6, 1]\n",
      "[1, 10, -2, 0, 2, 3, 33, 9, 9, -5, 6, 34, 60]\n",
      "[-5, -2, 0, 1, 2, 3, 33, 9, 9, 10, 6, 34, 60]\n",
      "[-5, -2, 0, 1, 2, 3, 33, 9, 9, 10, 6, 34, 60]\n",
      "[-5, -2, 0, 1, 2, 3, 33, 9, 9, 10, 6, 34, 60]\n",
      "[-5, -2, 0, 1, 2, 3, 33, 9, 9, 10, 6, 34, 60]\n",
      "[-5, -2, 0, 1, 2, 3, 33, 9, 9, 10, 6, 34, 60]\n",
      "[-5, -2, 0, 1, 2, 3, 33, 9, 9, 10, 6, 34, 60]\n",
      "[-5, -2, 0, 1, 2, 3, 33, 9, 9, 10, 6, 34, 60]\n",
      "[-5, -2, 0, 1, 2, 3, 33, 9, 9, 10, 6, 34, 60]\n",
      "[-5, -2, 0, 1, 2, 3, 33, 9, 9, 10, 6, 34, 60]\n",
      "[-5, -2, 0, 1, 2, 3, 33, 9, 9, 10, 6, 34, 60]\n",
      "[-5, -2, 0, 1, 2, 3, 6, 9, 9, 10, 33, 34, 60]\n",
      "[-5, -2, 0, 1, 2, 3, 6, 9, 9, 10, 33, 34, 60]\n",
      "[-5, -2, 0, 1, 2, 3, 6, 9, 9, 10, 33, 34, 60]\n",
      "[-5, -2, 0, 1, 2, 3, 6, 9, 9, 10, 33, 34, 60]\n",
      "[-5, -2, 0, 1, 2, 3, 6, 9, 9, 10, 33, 34, 60]\n",
      "[-5, -2, 0, 1, 2, 3, 6, 9, 9, 10, 33, 34, 60]\n",
      "[-5, -2, 0, 1, 2, 3, 6, 9, 9, 10, 33, 34, 60]\n"
     ]
    }
   ],
   "source": [
    "quicksort(A,0,len(A)-1)"
   ]
  },
  {
   "cell_type": "code",
   "execution_count": null,
   "id": "57e8b0f0",
   "metadata": {},
   "outputs": [],
   "source": []
  }
 ],
 "metadata": {
  "kernelspec": {
   "display_name": "Python 3 (ipykernel)",
   "language": "python",
   "name": "python3"
  },
  "language_info": {
   "codemirror_mode": {
    "name": "ipython",
    "version": 3
   },
   "file_extension": ".py",
   "mimetype": "text/x-python",
   "name": "python",
   "nbconvert_exporter": "python",
   "pygments_lexer": "ipython3",
   "version": "3.8.9"
  }
 },
 "nbformat": 4,
 "nbformat_minor": 5
}
