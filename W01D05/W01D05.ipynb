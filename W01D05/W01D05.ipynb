{
 "cells": [
  {
   "cell_type": "code",
   "execution_count": 3,
   "id": "9378b17e",
   "metadata": {},
   "outputs": [],
   "source": [
    "class Node:\n",
    "    def __init__(self, data):\n",
    "        self.data = data\n",
    "        self.left = None\n",
    "        self.right = None"
   ]
  },
  {
   "cell_type": "code",
   "execution_count": 4,
   "id": "95d00a5a",
   "metadata": {},
   "outputs": [],
   "source": [
    "# recursion will be used here.\n",
    "# in recursion no of lines of code is less, but it is generally difficult to understand.\n",
    "def insert(node, data):\n",
    "    # exit condition (when the considered subtree is empty)\n",
    "    if node is None:\n",
    "        return Node(data)\n",
    "    # when considered subtree is not empty\n",
    "    if data <= node.data:\n",
    "        node.left = insert(node.left, data)\n",
    "    else:\n",
    "        node.right = insert(node.right, data)\n",
    "    return node"
   ]
  },
  {
   "cell_type": "code",
   "execution_count": 5,
   "id": "b5b9c4ea",
   "metadata": {},
   "outputs": [],
   "source": [
    "root = Node(100)"
   ]
  },
  {
   "cell_type": "code",
   "execution_count": 6,
   "id": "8dfcfad0",
   "metadata": {},
   "outputs": [
    {
     "data": {
      "text/plain": [
       "<__main__.Node at 0x1030f3490>"
      ]
     },
     "execution_count": 6,
     "metadata": {},
     "output_type": "execute_result"
    }
   ],
   "source": [
    "insert(root, 50)"
   ]
  },
  {
   "cell_type": "code",
   "execution_count": 8,
   "id": "c3552d1c",
   "metadata": {},
   "outputs": [
    {
     "data": {
      "text/plain": [
       "50"
      ]
     },
     "execution_count": 8,
     "metadata": {},
     "output_type": "execute_result"
    }
   ],
   "source": [
    "root.left.data"
   ]
  },
  {
   "cell_type": "code",
   "execution_count": 10,
   "id": "f9c51c9e",
   "metadata": {},
   "outputs": [
    {
     "data": {
      "text/plain": [
       "<__main__.Node at 0x1030f3490>"
      ]
     },
     "execution_count": 10,
     "metadata": {},
     "output_type": "execute_result"
    }
   ],
   "source": [
    "insert(root, 120)"
   ]
  },
  {
   "cell_type": "code",
   "execution_count": 11,
   "id": "ee2fdf7e",
   "metadata": {},
   "outputs": [
    {
     "data": {
      "text/plain": [
       "120"
      ]
     },
     "execution_count": 11,
     "metadata": {},
     "output_type": "execute_result"
    }
   ],
   "source": [
    "root.right.data"
   ]
  },
  {
   "cell_type": "code",
   "execution_count": 12,
   "id": "9ab41bdb",
   "metadata": {},
   "outputs": [
    {
     "data": {
      "text/plain": [
       "<__main__.Node at 0x1030f3490>"
      ]
     },
     "execution_count": 12,
     "metadata": {},
     "output_type": "execute_result"
    }
   ],
   "source": [
    "insert(root, 70)"
   ]
  },
  {
   "cell_type": "code",
   "execution_count": 13,
   "id": "e1a90dc4",
   "metadata": {},
   "outputs": [
    {
     "data": {
      "text/plain": [
       "70"
      ]
     },
     "execution_count": 13,
     "metadata": {},
     "output_type": "execute_result"
    }
   ],
   "source": [
    "root.left.right.data"
   ]
  },
  {
   "cell_type": "code",
   "execution_count": 14,
   "id": "7fca0499",
   "metadata": {},
   "outputs": [
    {
     "data": {
      "text/plain": [
       "<__main__.Node at 0x1030f3490>"
      ]
     },
     "execution_count": 14,
     "metadata": {},
     "output_type": "execute_result"
    }
   ],
   "source": [
    "insert(root, 110)"
   ]
  },
  {
   "cell_type": "code",
   "execution_count": 15,
   "id": "80ffa93f",
   "metadata": {},
   "outputs": [
    {
     "data": {
      "text/plain": [
       "110"
      ]
     },
     "execution_count": 15,
     "metadata": {},
     "output_type": "execute_result"
    }
   ],
   "source": [
    "root.right.left.data"
   ]
  },
  {
   "cell_type": "code",
   "execution_count": 16,
   "id": "f87d5459",
   "metadata": {},
   "outputs": [],
   "source": [
    "# Traversal"
   ]
  },
  {
   "cell_type": "code",
   "execution_count": 17,
   "id": "9f44f9f9",
   "metadata": {},
   "outputs": [],
   "source": [
    "# recursion based\n",
    "def inorder(root):\n",
    "    if root is not None:\n",
    "        inorder(root.left)\n",
    "        print(root.data)\n",
    "        inorder(root.right)"
   ]
  },
  {
   "cell_type": "code",
   "execution_count": 18,
   "id": "b8fa0f85",
   "metadata": {},
   "outputs": [
    {
     "name": "stdout",
     "output_type": "stream",
     "text": [
      "50\n",
      "70\n",
      "100\n",
      "110\n",
      "120\n"
     ]
    }
   ],
   "source": [
    "inorder(root)"
   ]
  },
  {
   "cell_type": "code",
   "execution_count": 19,
   "id": "695ae1b9",
   "metadata": {},
   "outputs": [],
   "source": [
    "# recursion based\n",
    "def preorder(root):\n",
    "    if root is not None:\n",
    "        print(root.data)\n",
    "        inorder(root.left)\n",
    "        inorder(root.right)"
   ]
  },
  {
   "cell_type": "code",
   "execution_count": 21,
   "id": "b4839983",
   "metadata": {},
   "outputs": [
    {
     "name": "stdout",
     "output_type": "stream",
     "text": [
      "100\n",
      "50\n",
      "70\n",
      "110\n",
      "120\n"
     ]
    }
   ],
   "source": [
    "preorder(root)"
   ]
  },
  {
   "cell_type": "code",
   "execution_count": 20,
   "id": "01a36e73",
   "metadata": {},
   "outputs": [],
   "source": [
    "# recursion based\n",
    "def postorder(root):\n",
    "    if root is not None:\n",
    "        inorder(root.left)\n",
    "        inorder(root.right)\n",
    "        print(root.data)"
   ]
  },
  {
   "cell_type": "code",
   "execution_count": 22,
   "id": "4d98ea94",
   "metadata": {},
   "outputs": [
    {
     "name": "stdout",
     "output_type": "stream",
     "text": [
      "50\n",
      "70\n",
      "110\n",
      "120\n",
      "100\n"
     ]
    }
   ],
   "source": [
    "postorder(root)"
   ]
  },
  {
   "cell_type": "code",
   "execution_count": 23,
   "id": "e59da5a6",
   "metadata": {},
   "outputs": [],
   "source": [
    "# bfs"
   ]
  },
  {
   "cell_type": "code",
   "execution_count": 26,
   "id": "81443e8b",
   "metadata": {},
   "outputs": [],
   "source": [
    "# non recursive code\n",
    "def bfs(root):\n",
    "    queue = []\n",
    "    \n",
    "    # empty tree:\n",
    "    if root is None:\n",
    "        return\n",
    "    \n",
    "    queue.append(root)\n",
    "    \n",
    "    while(len(queue)>0):\n",
    "        popped_node = queue.pop(0)\n",
    "        print(popped_node.data)\n",
    "        if popped_node.left is not None:\n",
    "            queue.append(popped_node.left)\n",
    "        if popped_node.right is not None:\n",
    "            queue.append(popped_node.right)"
   ]
  },
  {
   "cell_type": "code",
   "execution_count": 27,
   "id": "95f2ba98",
   "metadata": {},
   "outputs": [
    {
     "name": "stdout",
     "output_type": "stream",
     "text": [
      "100\n",
      "50\n",
      "120\n",
      "70\n",
      "110\n"
     ]
    }
   ],
   "source": [
    "bfs(root)"
   ]
  },
  {
   "cell_type": "code",
   "execution_count": null,
   "id": "dd3b22f5",
   "metadata": {},
   "outputs": [],
   "source": [
    "# homework\n",
    "## to find a minimum data in binary search tree.\n",
    "## try recursive code."
   ]
  }
 ],
 "metadata": {
  "kernelspec": {
   "display_name": "Python 3 (ipykernel)",
   "language": "python",
   "name": "python3"
  },
  "language_info": {
   "codemirror_mode": {
    "name": "ipython",
    "version": 3
   },
   "file_extension": ".py",
   "mimetype": "text/x-python",
   "name": "python",
   "nbconvert_exporter": "python",
   "pygments_lexer": "ipython3",
   "version": "3.8.9"
  }
 },
 "nbformat": 4,
 "nbformat_minor": 5
}
