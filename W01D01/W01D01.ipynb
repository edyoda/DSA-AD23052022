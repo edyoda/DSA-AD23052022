{
 "cells": [
  {
   "cell_type": "code",
   "execution_count": 1,
   "id": "731aab05",
   "metadata": {},
   "outputs": [],
   "source": [
    "a = 30"
   ]
  },
  {
   "cell_type": "code",
   "execution_count": 2,
   "id": "6ae44331",
   "metadata": {},
   "outputs": [
    {
     "data": {
      "text/plain": [
       "4309247144"
      ]
     },
     "execution_count": 2,
     "metadata": {},
     "output_type": "execute_result"
    }
   ],
   "source": [
    "id(a)"
   ]
  },
  {
   "cell_type": "code",
   "execution_count": 3,
   "id": "4804db3e",
   "metadata": {},
   "outputs": [],
   "source": [
    "class Node:\n",
    "    def __init__(self, data):\n",
    "        self.data = data\n",
    "        self.link = None"
   ]
  },
  {
   "cell_type": "code",
   "execution_count": 4,
   "id": "32a1db90",
   "metadata": {},
   "outputs": [],
   "source": [
    "first = Node(10)"
   ]
  },
  {
   "cell_type": "code",
   "execution_count": 5,
   "id": "f855ca36",
   "metadata": {},
   "outputs": [],
   "source": [
    "second = Node(30)"
   ]
  },
  {
   "cell_type": "code",
   "execution_count": 6,
   "id": "8f94159c",
   "metadata": {},
   "outputs": [],
   "source": [
    "third = Node(40)"
   ]
  },
  {
   "cell_type": "code",
   "execution_count": 7,
   "id": "b491b38e",
   "metadata": {},
   "outputs": [],
   "source": [
    "fourth = Node(50)"
   ]
  },
  {
   "cell_type": "code",
   "execution_count": 8,
   "id": "78d6c5f7",
   "metadata": {},
   "outputs": [
    {
     "data": {
      "text/plain": [
       "4342829008"
      ]
     },
     "execution_count": 8,
     "metadata": {},
     "output_type": "execute_result"
    }
   ],
   "source": [
    "id(first)"
   ]
  },
  {
   "cell_type": "code",
   "execution_count": 9,
   "id": "e41ad430",
   "metadata": {},
   "outputs": [
    {
     "data": {
      "text/plain": [
       "4342664640"
      ]
     },
     "execution_count": 9,
     "metadata": {},
     "output_type": "execute_result"
    }
   ],
   "source": [
    "id(second)"
   ]
  },
  {
   "cell_type": "code",
   "execution_count": 10,
   "id": "d3993e4c",
   "metadata": {},
   "outputs": [],
   "source": [
    "head = first"
   ]
  },
  {
   "cell_type": "code",
   "execution_count": 11,
   "id": "986940de",
   "metadata": {},
   "outputs": [],
   "source": [
    "first.link = second"
   ]
  },
  {
   "cell_type": "code",
   "execution_count": 12,
   "id": "b3e5f478",
   "metadata": {},
   "outputs": [],
   "source": [
    "second.link = third"
   ]
  },
  {
   "cell_type": "code",
   "execution_count": 13,
   "id": "ef89bac0",
   "metadata": {},
   "outputs": [],
   "source": [
    "third.link = fourth"
   ]
  },
  {
   "cell_type": "code",
   "execution_count": 14,
   "id": "6b5bffa4",
   "metadata": {},
   "outputs": [
    {
     "data": {
      "text/plain": [
       "10"
      ]
     },
     "execution_count": 14,
     "metadata": {},
     "output_type": "execute_result"
    }
   ],
   "source": [
    "head.data"
   ]
  },
  {
   "cell_type": "code",
   "execution_count": 15,
   "id": "6d5553c7",
   "metadata": {},
   "outputs": [
    {
     "data": {
      "text/plain": [
       "30"
      ]
     },
     "execution_count": 15,
     "metadata": {},
     "output_type": "execute_result"
    }
   ],
   "source": [
    "head.link.data"
   ]
  },
  {
   "cell_type": "code",
   "execution_count": 16,
   "id": "ef0b7d54",
   "metadata": {},
   "outputs": [
    {
     "data": {
      "text/plain": [
       "40"
      ]
     },
     "execution_count": 16,
     "metadata": {},
     "output_type": "execute_result"
    }
   ],
   "source": [
    "head.link.link.data"
   ]
  },
  {
   "cell_type": "code",
   "execution_count": 17,
   "id": "6c1b04a6",
   "metadata": {},
   "outputs": [
    {
     "data": {
      "text/plain": [
       "50"
      ]
     },
     "execution_count": 17,
     "metadata": {},
     "output_type": "execute_result"
    }
   ],
   "source": [
    "head.link.link.link.data"
   ]
  },
  {
   "cell_type": "code",
   "execution_count": 19,
   "id": "ab0678c0",
   "metadata": {},
   "outputs": [
    {
     "name": "stdout",
     "output_type": "stream",
     "text": [
      "None\n"
     ]
    }
   ],
   "source": [
    "print(head.link.link.link.link)"
   ]
  },
  {
   "cell_type": "code",
   "execution_count": 21,
   "id": "b06b0d87",
   "metadata": {},
   "outputs": [
    {
     "name": "stdout",
     "output_type": "stream",
     "text": [
      "10\n",
      "30\n",
      "40\n",
      "50\n"
     ]
    }
   ],
   "source": [
    "print(head.data)\n",
    "node = head\n",
    "while node.link != None:\n",
    "    node = node.link\n",
    "    print(node.data)"
   ]
  },
  {
   "cell_type": "markdown",
   "id": "b82beb17",
   "metadata": {},
   "source": [
    "# ADVANCE DSA"
   ]
  },
  {
   "cell_type": "markdown",
   "id": "dd9013c0",
   "metadata": {},
   "source": [
    "LINEAR SEARCH"
   ]
  },
  {
   "cell_type": "code",
   "execution_count": 28,
   "id": "c2f8ac0e",
   "metadata": {},
   "outputs": [
    {
     "name": "stdout",
     "output_type": "stream",
     "text": [
      "what number do you want to search?33\n",
      "found at index 4\n"
     ]
    }
   ],
   "source": [
    "x = [23,12,-5,10,33,17]\n",
    "\n",
    "key = int(input('what number do you want to search?'))\n",
    "index = 0\n",
    "for element in x:\n",
    "    if element == key:\n",
    "        print(f'found at index {index}')\n",
    "        break\n",
    "    index+=1\n",
    "else:\n",
    "    print(f'did not found {key}')"
   ]
  },
  {
   "cell_type": "code",
   "execution_count": null,
   "id": "d21e834c",
   "metadata": {},
   "outputs": [],
   "source": [
    "# for-else loop"
   ]
  },
  {
   "cell_type": "markdown",
   "id": "c3e16ff6",
   "metadata": {},
   "source": [
    "Binary Search"
   ]
  },
  {
   "cell_type": "code",
   "execution_count": 29,
   "id": "c2490847",
   "metadata": {},
   "outputs": [],
   "source": [
    "# -works on sorted list."
   ]
  },
  {
   "cell_type": "code",
   "execution_count": null,
   "id": "d3b202df",
   "metadata": {},
   "outputs": [],
   "source": [
    "- mid value\n",
    "- compare it with the key\n",
    "    if key == mid:\n",
    "        element is found\n",
    "    else:\n",
    "        take out the part of the list, where we will apply the same algo again.\n",
    "        Recursion"
   ]
  },
  {
   "cell_type": "markdown",
   "id": "e9009c5f",
   "metadata": {},
   "source": [
    "# Bubble Sort"
   ]
  },
  {
   "cell_type": "code",
   "execution_count": 39,
   "id": "d39a635c",
   "metadata": {},
   "outputs": [
    {
     "name": "stdout",
     "output_type": "stream",
     "text": [
      "0\n",
      "index = 0, comparing = 1\n",
      "index = 1, comparing = 2\n",
      "index = 2, comparing = 3\n",
      "index = 3, comparing = 4\n",
      "index = 4, comparing = 5\n",
      "index = 5, comparing = 6\n",
      "[23, 9, -3, 16, 45, 14, 77]\n",
      "1\n",
      "index = 0, comparing = 1\n",
      "index = 1, comparing = 2\n",
      "index = 2, comparing = 3\n",
      "index = 3, comparing = 4\n",
      "index = 4, comparing = 5\n",
      "[9, -3, 16, 23, 14, 45, 77]\n",
      "2\n",
      "index = 0, comparing = 1\n",
      "index = 1, comparing = 2\n",
      "index = 2, comparing = 3\n",
      "index = 3, comparing = 4\n",
      "[-3, 9, 16, 14, 23, 45, 77]\n",
      "3\n",
      "index = 0, comparing = 1\n",
      "index = 1, comparing = 2\n",
      "index = 2, comparing = 3\n",
      "[-3, 9, 14, 16, 23, 45, 77]\n",
      "4\n",
      "index = 0, comparing = 1\n",
      "index = 1, comparing = 2\n",
      "[-3, 9, 14, 16, 23, 45, 77]\n",
      "5\n",
      "index = 0, comparing = 1\n",
      "[-3, 9, 14, 16, 23, 45, 77]\n"
     ]
    }
   ],
   "source": [
    "x = [23,45,9,-3,16,77,14]\n",
    "\n",
    "for iteration_number in range(len(x)-1):\n",
    "    print(iteration_number)\n",
    "    for index in range(len(x)-iteration_number-1):\n",
    "        print(f'index = {index}, comparing = {index+1}')\n",
    "        if x[index+1] < x[index]:\n",
    "            x[index+1], x[index] = x[index], x[index+1]\n",
    "    print(x)"
   ]
  },
  {
   "cell_type": "code",
   "execution_count": 35,
   "id": "e8783ced",
   "metadata": {},
   "outputs": [],
   "source": [
    "a = 10\n",
    "b = 20"
   ]
  },
  {
   "cell_type": "code",
   "execution_count": 36,
   "id": "4a02f4a0",
   "metadata": {},
   "outputs": [],
   "source": [
    "a,b = b,a"
   ]
  },
  {
   "cell_type": "code",
   "execution_count": 37,
   "id": "5bdd7a26",
   "metadata": {},
   "outputs": [
    {
     "data": {
      "text/plain": [
       "20"
      ]
     },
     "execution_count": 37,
     "metadata": {},
     "output_type": "execute_result"
    }
   ],
   "source": [
    "a"
   ]
  },
  {
   "cell_type": "code",
   "execution_count": 38,
   "id": "93510e6a",
   "metadata": {},
   "outputs": [
    {
     "data": {
      "text/plain": [
       "10"
      ]
     },
     "execution_count": 38,
     "metadata": {},
     "output_type": "execute_result"
    }
   ],
   "source": [
    "b"
   ]
  },
  {
   "cell_type": "markdown",
   "id": "4e8b579a",
   "metadata": {},
   "source": [
    "homework: insertion sort visual algo: \n",
    "        https://visualgo.net/en/sorting?slide=5"
   ]
  },
  {
   "cell_type": "markdown",
   "id": "8b5bc8b7",
   "metadata": {},
   "source": [
    "also try to write code for the same."
   ]
  },
  {
   "cell_type": "code",
   "execution_count": 45,
   "id": "d9de6777",
   "metadata": {},
   "outputs": [
    {
     "name": "stdout",
     "output_type": "stream",
     "text": [
      "0\n",
      "index = 1\n",
      "index = 2\n",
      "index = 3\n",
      "index = 4\n",
      "index = 5\n",
      "index = 6\n",
      "[-3, 45, 9, 23, 16, 77, 14]\n",
      "1\n",
      "index = 2\n",
      "index = 3\n",
      "index = 4\n",
      "index = 5\n",
      "index = 6\n",
      "[-3, 9, 45, 23, 16, 77, 14]\n",
      "2\n",
      "index = 3\n",
      "index = 4\n",
      "index = 5\n",
      "index = 6\n",
      "[-3, 9, 14, 23, 16, 77, 45]\n",
      "3\n",
      "index = 4\n",
      "index = 5\n",
      "index = 6\n",
      "[-3, 9, 14, 16, 23, 77, 45]\n",
      "4\n",
      "index = 5\n",
      "index = 6\n",
      "[-3, 9, 14, 16, 23, 77, 45]\n",
      "5\n",
      "index = 6\n",
      "[-3, 9, 14, 16, 23, 45, 77]\n"
     ]
    }
   ],
   "source": [
    "x = [23,45,9,-3,16,77,14]\n",
    "\n",
    "for iteration_number in range(len(x)-1):\n",
    "    print(iteration_number)\n",
    "    minimium_index = iteration_number\n",
    "    minimum_value = x[iteration_number]\n",
    "    for index in range(iteration_number+1, len(x)):\n",
    "        print(f'index = {index}')\n",
    "        if minimum_value > x[index]:\n",
    "            minimum_value = x[index]\n",
    "            minimum_index = index\n",
    "    x[iteration_number], x[minimum_index] = x[minimum_index], x[iteration_number]\n",
    "    print(x)"
   ]
  },
  {
   "cell_type": "code",
   "execution_count": null,
   "id": "f6bab7a7",
   "metadata": {},
   "outputs": [],
   "source": []
  }
 ],
 "metadata": {
  "kernelspec": {
   "display_name": "Python 3 (ipykernel)",
   "language": "python",
   "name": "python3"
  },
  "language_info": {
   "codemirror_mode": {
    "name": "ipython",
    "version": 3
   },
   "file_extension": ".py",
   "mimetype": "text/x-python",
   "name": "python",
   "nbconvert_exporter": "python",
   "pygments_lexer": "ipython3",
   "version": "3.8.9"
  }
 },
 "nbformat": 4,
 "nbformat_minor": 5
}
