{
 "cells": [
  {
   "cell_type": "markdown",
   "id": "b30b69b9",
   "metadata": {},
   "source": [
    "# BINARY SEARCH CODE"
   ]
  },
  {
   "cell_type": "code",
   "execution_count": 7,
   "id": "3aa8a30f",
   "metadata": {},
   "outputs": [],
   "source": [
    "def binary_search(A, low, high, key):\n",
    "    if high >= low:\n",
    "        mid = low + (high - low)//2\n",
    "        print(A[mid])\n",
    "        if A[mid] == key:\n",
    "            return mid\n",
    "        elif key > A[mid]:\n",
    "            return binary_search(A, mid+1, high, key)\n",
    "        else:\n",
    "            return binary_search(A, low, mid-1, key)\n",
    "    else:\n",
    "        return 'not found'"
   ]
  },
  {
   "cell_type": "code",
   "execution_count": 8,
   "id": "69d02211",
   "metadata": {},
   "outputs": [
    {
     "name": "stdout",
     "output_type": "stream",
     "text": [
      "60\n",
      "399\n"
     ]
    }
   ],
   "source": [
    "A = [12,23,40,50,60,67,89,399,720,1020]\n",
    "\n",
    "key = 399\n",
    "index = binary_search(A, 0, len(A)-1, 399)"
   ]
  },
  {
   "cell_type": "code",
   "execution_count": 9,
   "id": "5286b7a9",
   "metadata": {},
   "outputs": [
    {
     "name": "stdout",
     "output_type": "stream",
     "text": [
      "7\n"
     ]
    }
   ],
   "source": [
    "print(index)"
   ]
  },
  {
   "cell_type": "code",
   "execution_count": 10,
   "id": "f80fe797",
   "metadata": {},
   "outputs": [
    {
     "data": {
      "text/plain": [
       "399"
      ]
     },
     "execution_count": 10,
     "metadata": {},
     "output_type": "execute_result"
    }
   ],
   "source": [
    "A[index]"
   ]
  },
  {
   "cell_type": "code",
   "execution_count": 44,
   "id": "817ac739",
   "metadata": {},
   "outputs": [],
   "source": [
    "class Node:\n",
    "    def __init__(self, data):\n",
    "        self.data = data\n",
    "        self.left = None\n",
    "        self.right = None\n",
    "    \n",
    "    def __str__(self):\n",
    "        return str(self.data)"
   ]
  },
  {
   "cell_type": "code",
   "execution_count": 45,
   "id": "e52a8e27",
   "metadata": {},
   "outputs": [],
   "source": [
    "root = Node(40)"
   ]
  },
  {
   "cell_type": "code",
   "execution_count": 46,
   "id": "4c0a10f8",
   "metadata": {},
   "outputs": [
    {
     "name": "stdout",
     "output_type": "stream",
     "text": [
      "None\n"
     ]
    }
   ],
   "source": [
    "print(root.left)"
   ]
  },
  {
   "cell_type": "code",
   "execution_count": 47,
   "id": "c4790668",
   "metadata": {},
   "outputs": [
    {
     "name": "stdout",
     "output_type": "stream",
     "text": [
      "None\n"
     ]
    }
   ],
   "source": [
    "print(root.right)"
   ]
  },
  {
   "cell_type": "code",
   "execution_count": 48,
   "id": "555fe569",
   "metadata": {},
   "outputs": [],
   "source": [
    "left_child = Node(20)"
   ]
  },
  {
   "cell_type": "code",
   "execution_count": 49,
   "id": "e9bc0632",
   "metadata": {},
   "outputs": [],
   "source": [
    "right_child = Node(56)"
   ]
  },
  {
   "cell_type": "code",
   "execution_count": 50,
   "id": "26ecdd08",
   "metadata": {},
   "outputs": [],
   "source": [
    "root.left = left_child"
   ]
  },
  {
   "cell_type": "code",
   "execution_count": 51,
   "id": "8f1ae459",
   "metadata": {},
   "outputs": [],
   "source": [
    "root.right = right_child"
   ]
  },
  {
   "cell_type": "code",
   "execution_count": 52,
   "id": "8e01d1eb",
   "metadata": {},
   "outputs": [
    {
     "data": {
      "text/plain": [
       "<__main__.Node at 0x1051d5220>"
      ]
     },
     "execution_count": 52,
     "metadata": {},
     "output_type": "execute_result"
    }
   ],
   "source": [
    "root"
   ]
  },
  {
   "cell_type": "code",
   "execution_count": 53,
   "id": "e6aec1e7",
   "metadata": {},
   "outputs": [
    {
     "data": {
      "text/plain": [
       "40"
      ]
     },
     "execution_count": 53,
     "metadata": {},
     "output_type": "execute_result"
    }
   ],
   "source": [
    "root.data"
   ]
  },
  {
   "cell_type": "code",
   "execution_count": 54,
   "id": "ff36ff1f",
   "metadata": {},
   "outputs": [
    {
     "name": "stdout",
     "output_type": "stream",
     "text": [
      "20\n"
     ]
    }
   ],
   "source": [
    "print(root.left)"
   ]
  },
  {
   "cell_type": "code",
   "execution_count": 55,
   "id": "1264e54a",
   "metadata": {},
   "outputs": [
    {
     "data": {
      "text/plain": [
       "20"
      ]
     },
     "execution_count": 55,
     "metadata": {},
     "output_type": "execute_result"
    }
   ],
   "source": [
    "root.left.data"
   ]
  },
  {
   "cell_type": "code",
   "execution_count": 56,
   "id": "f45dfb3f",
   "metadata": {},
   "outputs": [
    {
     "data": {
      "text/plain": [
       "56"
      ]
     },
     "execution_count": 56,
     "metadata": {},
     "output_type": "execute_result"
    }
   ],
   "source": [
    "root.right.data"
   ]
  },
  {
   "cell_type": "code",
   "execution_count": 57,
   "id": "e7d0c573",
   "metadata": {},
   "outputs": [
    {
     "name": "stdout",
     "output_type": "stream",
     "text": [
      "40\n"
     ]
    }
   ],
   "source": [
    "print(root)"
   ]
  },
  {
   "cell_type": "code",
   "execution_count": 58,
   "id": "0d3f0bc1",
   "metadata": {},
   "outputs": [
    {
     "name": "stdout",
     "output_type": "stream",
     "text": [
      "56\n"
     ]
    }
   ],
   "source": [
    "print(root.right)"
   ]
  },
  {
   "cell_type": "code",
   "execution_count": 59,
   "id": "04afbc1f",
   "metadata": {},
   "outputs": [
    {
     "name": "stdout",
     "output_type": "stream",
     "text": [
      "20\n"
     ]
    }
   ],
   "source": [
    "print(root.left)"
   ]
  },
  {
   "cell_type": "code",
   "execution_count": null,
   "id": "d70da5e9",
   "metadata": {},
   "outputs": [],
   "source": []
  }
 ],
 "metadata": {
  "kernelspec": {
   "display_name": "Python 3 (ipykernel)",
   "language": "python",
   "name": "python3"
  },
  "language_info": {
   "codemirror_mode": {
    "name": "ipython",
    "version": 3
   },
   "file_extension": ".py",
   "mimetype": "text/x-python",
   "name": "python",
   "nbconvert_exporter": "python",
   "pygments_lexer": "ipython3",
   "version": "3.8.9"
  }
 },
 "nbformat": 4,
 "nbformat_minor": 5
}
